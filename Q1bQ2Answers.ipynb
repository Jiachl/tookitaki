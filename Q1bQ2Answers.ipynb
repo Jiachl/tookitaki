{
 "cells": [
  {
   "cell_type": "code",
   "execution_count": 1,
   "metadata": {},
   "outputs": [],
   "source": [
    "# Q1b\n",
    "def expected_winnings(N, M):\n",
    "    if M <= 0:\n",
    "        return 0\n",
    "    \n",
    "    if N <= 1:\n",
    "        return N\n",
    "    \n",
    "    cur_return = expected_return(1, N)\n",
    "    M -= 1\n",
    "    while M > 0:\n",
    "        cur_return = cur_return * int(cur_return) / float(N) + (1 - int(cur_return) / float(N)) * expected_return(int(cur_return) + 1, N)\n",
    "        M -= 1\n",
    "        \n",
    "    return cur_return\n",
    "    \n",
    "def expected_return(begin, end):\n",
    "    return sum(range(begin, end + 1)) / float(end - begin + 1)"
   ]
  },
  {
   "cell_type": "code",
   "execution_count": 2,
   "metadata": {},
   "outputs": [
    {
     "data": {
      "text/plain": [
       "4.666666666666667"
      ]
     },
     "execution_count": 2,
     "metadata": {},
     "output_type": "execute_result"
    }
   ],
   "source": [
    "# Test 1\n",
    "win = expected_winnings(6, 3)\n",
    "win"
   ]
  },
  {
   "cell_type": "code",
   "execution_count": 3,
   "metadata": {},
   "outputs": [
    {
     "data": {
      "text/plain": [
       "1"
      ]
     },
     "execution_count": 3,
     "metadata": {},
     "output_type": "execute_result"
    }
   ],
   "source": [
    "# Test 2\n",
    "win = expected_winnings(1, 3)\n",
    "win"
   ]
  },
  {
   "cell_type": "code",
   "execution_count": 4,
   "metadata": {},
   "outputs": [
    {
     "data": {
      "text/plain": [
       "5.5"
      ]
     },
     "execution_count": 4,
     "metadata": {},
     "output_type": "execute_result"
    }
   ],
   "source": [
    "# Test 3\n",
    "win = expected_winnings(10, 1)\n",
    "win"
   ]
  },
  {
   "cell_type": "code",
   "execution_count": 5,
   "metadata": {},
   "outputs": [
    {
     "data": {
      "text/plain": [
       "7.915"
      ]
     },
     "execution_count": 5,
     "metadata": {},
     "output_type": "execute_result"
    }
   ],
   "source": [
    "# Test 4\n",
    "win = expected_winnings(10, 4)\n",
    "win"
   ]
  },
  {
   "cell_type": "code",
   "execution_count": 6,
   "metadata": {},
   "outputs": [
    {
     "data": {
      "text/html": [
       "<div>\n",
       "<style scoped>\n",
       "    .dataframe tbody tr th:only-of-type {\n",
       "        vertical-align: middle;\n",
       "    }\n",
       "\n",
       "    .dataframe tbody tr th {\n",
       "        vertical-align: top;\n",
       "    }\n",
       "\n",
       "    .dataframe thead th {\n",
       "        text-align: right;\n",
       "    }\n",
       "</style>\n",
       "<table border=\"1\" class=\"dataframe\">\n",
       "  <thead>\n",
       "    <tr style=\"text-align: right;\">\n",
       "      <th></th>\n",
       "      <th>FROM_NODE</th>\n",
       "      <th>TO_NODE</th>\n",
       "      <th>VALUE</th>\n",
       "    </tr>\n",
       "  </thead>\n",
       "  <tbody>\n",
       "    <tr>\n",
       "      <th>0</th>\n",
       "      <td>3.0</td>\n",
       "      <td>76</td>\n",
       "      <td>271791.828330</td>\n",
       "    </tr>\n",
       "    <tr>\n",
       "      <th>1</th>\n",
       "      <td>76.0</td>\n",
       "      <td>88</td>\n",
       "      <td>1458.625174</td>\n",
       "    </tr>\n",
       "    <tr>\n",
       "      <th>2</th>\n",
       "      <td>76.0</td>\n",
       "      <td>96</td>\n",
       "      <td>86848.361600</td>\n",
       "    </tr>\n",
       "    <tr>\n",
       "      <th>3</th>\n",
       "      <td>2.0</td>\n",
       "      <td>76</td>\n",
       "      <td>406695.000000</td>\n",
       "    </tr>\n",
       "    <tr>\n",
       "      <th>4</th>\n",
       "      <td>76.0</td>\n",
       "      <td>98</td>\n",
       "      <td>3227.734868</td>\n",
       "    </tr>\n",
       "  </tbody>\n",
       "</table>\n",
       "</div>"
      ],
      "text/plain": [
       "   FROM_NODE  TO_NODE          VALUE\n",
       "0        3.0       76  271791.828330\n",
       "1       76.0       88    1458.625174\n",
       "2       76.0       96   86848.361600\n",
       "3        2.0       76  406695.000000\n",
       "4       76.0       98    3227.734868"
      ]
     },
     "execution_count": 6,
     "metadata": {},
     "output_type": "execute_result"
    }
   ],
   "source": [
    "# Q2\n",
    "# Step 1. Check the data \n",
    "import pandas as pd\n",
    "data = pd.read_csv('../Data/data_Problem2 (7).csv')\n",
    "data.head()"
   ]
  },
  {
   "cell_type": "code",
   "execution_count": 7,
   "metadata": {},
   "outputs": [
    {
     "name": "stdout",
     "output_type": "stream",
     "text": [
      "<class 'pandas.core.frame.DataFrame'>\n",
      "RangeIndex: 167 entries, 0 to 166\n",
      "Data columns (total 3 columns):\n",
      "FROM_NODE    166 non-null float64\n",
      "TO_NODE      167 non-null int64\n",
      "VALUE        167 non-null float64\n",
      "dtypes: float64(2), int64(1)\n",
      "memory usage: 4.0 KB\n"
     ]
    }
   ],
   "source": [
    "data.info()"
   ]
  },
  {
   "cell_type": "code",
   "execution_count": 8,
   "metadata": {},
   "outputs": [
    {
     "data": {
      "text/html": [
       "<div>\n",
       "<style scoped>\n",
       "    .dataframe tbody tr th:only-of-type {\n",
       "        vertical-align: middle;\n",
       "    }\n",
       "\n",
       "    .dataframe tbody tr th {\n",
       "        vertical-align: top;\n",
       "    }\n",
       "\n",
       "    .dataframe thead th {\n",
       "        text-align: right;\n",
       "    }\n",
       "</style>\n",
       "<table border=\"1\" class=\"dataframe\">\n",
       "  <thead>\n",
       "    <tr style=\"text-align: right;\">\n",
       "      <th></th>\n",
       "      <th>FROM_NODE</th>\n",
       "      <th>TO_NODE</th>\n",
       "      <th>VALUE</th>\n",
       "    </tr>\n",
       "  </thead>\n",
       "  <tbody>\n",
       "    <tr>\n",
       "      <th>count</th>\n",
       "      <td>166.000000</td>\n",
       "      <td>167.000000</td>\n",
       "      <td>1.670000e+02</td>\n",
       "    </tr>\n",
       "    <tr>\n",
       "      <th>mean</th>\n",
       "      <td>82.012048</td>\n",
       "      <td>125.497006</td>\n",
       "      <td>1.419764e+07</td>\n",
       "    </tr>\n",
       "    <tr>\n",
       "      <th>std</th>\n",
       "      <td>51.458249</td>\n",
       "      <td>35.832756</td>\n",
       "      <td>5.810345e+07</td>\n",
       "    </tr>\n",
       "    <tr>\n",
       "      <th>min</th>\n",
       "      <td>1.000000</td>\n",
       "      <td>10.000000</td>\n",
       "      <td>2.158195e+02</td>\n",
       "    </tr>\n",
       "    <tr>\n",
       "      <th>25%</th>\n",
       "      <td>45.250000</td>\n",
       "      <td>94.500000</td>\n",
       "      <td>2.098236e+04</td>\n",
       "    </tr>\n",
       "    <tr>\n",
       "      <th>50%</th>\n",
       "      <td>76.000000</td>\n",
       "      <td>133.000000</td>\n",
       "      <td>9.058779e+04</td>\n",
       "    </tr>\n",
       "    <tr>\n",
       "      <th>75%</th>\n",
       "      <td>123.250000</td>\n",
       "      <td>157.000000</td>\n",
       "      <td>2.846257e+05</td>\n",
       "    </tr>\n",
       "    <tr>\n",
       "      <th>max</th>\n",
       "      <td>178.000000</td>\n",
       "      <td>179.000000</td>\n",
       "      <td>5.000000e+08</td>\n",
       "    </tr>\n",
       "  </tbody>\n",
       "</table>\n",
       "</div>"
      ],
      "text/plain": [
       "        FROM_NODE     TO_NODE         VALUE\n",
       "count  166.000000  167.000000  1.670000e+02\n",
       "mean    82.012048  125.497006  1.419764e+07\n",
       "std     51.458249   35.832756  5.810345e+07\n",
       "min      1.000000   10.000000  2.158195e+02\n",
       "25%     45.250000   94.500000  2.098236e+04\n",
       "50%     76.000000  133.000000  9.058779e+04\n",
       "75%    123.250000  157.000000  2.846257e+05\n",
       "max    178.000000  179.000000  5.000000e+08"
      ]
     },
     "execution_count": 8,
     "metadata": {},
     "output_type": "execute_result"
    }
   ],
   "source": [
    "data.describe()"
   ]
  },
  {
   "cell_type": "code",
   "execution_count": 21,
   "metadata": {},
   "outputs": [],
   "source": [
    "# Step 2. Build the algorithm\n",
    "import csv\n",
    "from collections import defaultdict\n",
    "graph = defaultdict(list)\n",
    "val_graph = defaultdict(list)\n",
    "\n",
    "def build_graph():\n",
    "    with open('../Data/data.csv') as csv_file:\n",
    "        csv_reader = csv.reader(csv_file, delimiter=',')\n",
    "        header = next(csv_reader)\n",
    "        for row in csv_reader:\n",
    "            from_node, to_node, value = row\n",
    "\n",
    "            try:\n",
    "                from_node = int(float(from_node))\n",
    "                to_node = int(float(to_node))\n",
    "                \n",
    "            except ValueError:\n",
    "                continue\n",
    "\n",
    "            value = float(value)\n",
    "            graph[from_node].append(to_node)\n",
    "            val_graph[(from_node, to_node)] = value\n",
    "\n",
    "            \n",
    "def dfs(graph, start, end):\n",
    "    # graph is a hash map {from_node: to_node}\n",
    "    # start and end are the nodes IDs\n",
    "    stack = [(start, [])]\n",
    "    while stack:\n",
    "        node, path = stack.pop()\n",
    "        \n",
    "        if path and node == end:\n",
    "            yield path\n",
    "            continue\n",
    "            \n",
    "        if node in graph:    \n",
    "            for next_node in graph[node]:\n",
    "                if next_node not in path:\n",
    "                    stack.append((next_node, path + [next_node]))\n",
    "            \n",
    "\n",
    "def find_cycles(graph):\n",
    "    # graph is a hash map {from_node: to_node}\n",
    "    cycles = []\n",
    "    \n",
    "    for node in graph:\n",
    "        for path in dfs(graph, node, node):\n",
    "            cycles.append([node] + path)\n",
    "            \n",
    "    return cycles\n",
    "\n",
    "\n",
    "def find_max_cycle(cycles, values):\n",
    "    # cycles is a list of cycles found using find_cycles(graph)\n",
    "    # values is a hash map {(from_node, to_node): value}\n",
    "    max_val = 0\n",
    "    max_cycle = []\n",
    "    for path in cycles:\n",
    "        cur_val = 0\n",
    "        \n",
    "        for start in range(len(path) - 1):\n",
    "            cur_val += values[(path[start], path[start + 1])]\n",
    "            \n",
    "        if cur_val > max_val:\n",
    "            max_val = cur_val\n",
    "            max_cycle = path\n",
    "            \n",
    "    return max_cycle, max_val\n",
    "\n",
    "\n",
    "build_graph()\n",
    "cycles = find_cycles(graph)\n",
    "max_cycle, max_val = find_max_cycle(cycles, val_graph)"
   ]
  },
  {
   "cell_type": "code",
   "execution_count": 22,
   "metadata": {},
   "outputs": [
    {
     "name": "stdout",
     "output_type": "stream",
     "text": [
      "[76, 10, 70, 171, 178, 90, 100, 76]\n",
      "743000235.0\n"
     ]
    }
   ],
   "source": [
    "print(max_cycle)\n",
    "print(max_val)"
   ]
  },
  {
   "cell_type": "code",
   "execution_count": 23,
   "metadata": {},
   "outputs": [
    {
     "name": "stdout",
     "output_type": "stream",
     "text": [
      "[3, 4, 3]\n",
      "11\n"
     ]
    }
   ],
   "source": [
    "# Test 1\n",
    "graph = { 1: [2], 2: [3], 3: [1, 4], 4: [3]}\n",
    "val_graph = {(1, 2): 1, (2, 3): 3, (3, 4): 1, (3, 1): 5, (4, 3): 10}\n",
    "cycles = find_cycles(graph)\n",
    "max_cycle, max_val = find_max_cycle(cycles, val_graph)\n",
    "print(max_cycle)\n",
    "print(max_val)"
   ]
  },
  {
   "cell_type": "code",
   "execution_count": 24,
   "metadata": {},
   "outputs": [
    {
     "name": "stdout",
     "output_type": "stream",
     "text": [
      "[]\n",
      "0\n"
     ]
    }
   ],
   "source": [
    "# Test 2\n",
    "graph = { 1: [2], 2: [3], 3: [4]}\n",
    "val_graph = {(1, 2): 1, (2, 3): 3, (3, 4): 1}\n",
    "cycles = find_cycles(graph)\n",
    "max_cycle, max_val = find_max_cycle(cycles, val_graph)\n",
    "print(max_cycle)\n",
    "print(max_val)"
   ]
  },
  {
   "cell_type": "code",
   "execution_count": 28,
   "metadata": {},
   "outputs": [
    {
     "name": "stdout",
     "output_type": "stream",
     "text": [
      "The cycle with the maximum number of nodes is [76, 10, 70, 171, 178, 90, 100, 76]\n",
      "The maximum transaction value is 743000235.00\n"
     ]
    }
   ],
   "source": [
    "#!/usr/bin/env python\n",
    "# encoding: utf-8\n",
    "\n",
    "import csv\n",
    "from collections import defaultdict\n",
    "\n",
    "class Graph(object):\n",
    "    def __init__(self):\n",
    "        self.graph = defaultdict(list)\n",
    "        self.val_graph = defaultdict(list)\n",
    "\n",
    "        self.build_graph()\n",
    "\n",
    "    def build_graph(self, filename='../Data/data.csv'):\n",
    "        with open(filename) as csv_file:\n",
    "            csv_reader = csv.reader(csv_file, delimiter=',')\n",
    "            header = next(csv_reader)\n",
    "            for row in csv_reader:\n",
    "                from_node, to_node, value = row\n",
    "\n",
    "                try:\n",
    "                    from_node = int(float(from_node))\n",
    "                    to_node = int(float(to_node))\n",
    "                except ValueError:\n",
    "                    continue\n",
    "\n",
    "                value = float(value)\n",
    "                self.graph[from_node].append(to_node)\n",
    "                self.val_graph[(from_node, to_node)] = value\n",
    "\n",
    "    def dfs(self, graph, start, end):\n",
    "         # graph is a hash map {from_node: to_node}\n",
    "        # start and end are the nodes IDs\n",
    "        stack = [(start, [])]\n",
    "        while stack:\n",
    "            node, path = stack.pop()\n",
    "\n",
    "            if path and node == end:\n",
    "                yield path\n",
    "                continue\n",
    "\n",
    "            if node in graph:\n",
    "                for next_node in graph[node]:\n",
    "                    if next_node in path:\n",
    "                        continue\n",
    "                    stack.append((next_node, path + [next_node]))\n",
    "\n",
    "    def find_cycles(self):\n",
    "        graph = {k : v for k, v in self.graph.items()}\n",
    "        cycles = []\n",
    "\n",
    "        for node in graph:\n",
    "            for path in self.dfs(graph, node, node):\n",
    "                cycles.append([node] + path)\n",
    "\n",
    "        return cycles\n",
    "\n",
    "    def find_max_cycle(self, cycles):\n",
    "        # cycles is a list of cycles found using find_cycles(graph)\n",
    "        # values is a hash map {(from_node, to_node): value}\n",
    "        max_val = 0\n",
    "        max_cycle = []\n",
    "\n",
    "        for path in cycles:\n",
    "            cur_val = 0\n",
    "\n",
    "            for start in range(len(path) - 1):\n",
    "                cur_val += self.val_graph[(path[start], path[start + 1])]\n",
    "\n",
    "            if cur_val > max_val:\n",
    "                max_val = cur_val\n",
    "                max_cycle = path\n",
    "\n",
    "        return max_cycle, max_val\n",
    "\n",
    "if __name__ == '__main__':\n",
    "    graph_obj = Graph()\n",
    "    cycles = graph_obj.find_cycles()\n",
    "    max_cycle, max_val = graph_obj.find_max_cycle(cycles)\n",
    "    print(\"The cycle with the maximum number of nodes is \" + str(max_cycle))\n",
    "    print(\"The maximum transaction value is %.2f\" % max_val)\n"
   ]
  },
  {
   "cell_type": "code",
   "execution_count": null,
   "metadata": {},
   "outputs": [],
   "source": []
  },
  {
   "cell_type": "code",
   "execution_count": null,
   "metadata": {},
   "outputs": [],
   "source": []
  }
 ],
 "metadata": {
  "kernelspec": {
   "display_name": "Python 3",
   "language": "python",
   "name": "python3"
  },
  "language_info": {
   "codemirror_mode": {
    "name": "ipython",
    "version": 3
   },
   "file_extension": ".py",
   "mimetype": "text/x-python",
   "name": "python",
   "nbconvert_exporter": "python",
   "pygments_lexer": "ipython3",
   "version": "3.6.4"
  }
 },
 "nbformat": 4,
 "nbformat_minor": 2
}
